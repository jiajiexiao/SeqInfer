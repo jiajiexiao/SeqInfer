{
 "cells": [
  {
   "cell_type": "code",
   "execution_count": 1,
   "metadata": {},
   "outputs": [],
   "source": [
    "from seqinfer.seq.datasets import SeqFromFileDataset\n",
    "from seqinfer.seq.transforms import Compose, KmerTokenizer, OneHotEncoder, ToTensor\n",
    "from seqinfer.seq.vocabularies import unambiguous_dna_vocabulary_dict\n",
    "\n",
    "import torch\n",
    "from torch.utils.data import ConcatDataset"
   ]
  },
  {
   "cell_type": "code",
   "execution_count": 9,
   "metadata": {},
   "outputs": [],
   "source": [
    "pos_seq_dataset = SeqFromFileDataset(\n",
    "    seq_file=\"pos.fasta\",\n",
    "    seq_file_fmt=\"fasta\",\n",
    "    transform_sequences=Compose(\n",
    "        [\n",
    "            KmerTokenizer(\n",
    "                k=1,\n",
    "                stride=1,\n",
    "                vocab_dict=unambiguous_dna_vocabulary_dict,\n",
    "                num_output_tokens=None,\n",
    "                special_tokens=None,\n",
    "            ),\n",
    "            OneHotEncoder(vocab_size=len(unambiguous_dna_vocabulary_dict)),\n",
    "            ToTensor(),\n",
    "        ]\n",
    "    ),\n",
    "    targets=1,\n",
    "    transform_targets=ToTensor(dtype=torch.float16),\n",
    ")\n",
    "\n",
    "neg_seq_dataset = SeqFromFileDataset(\n",
    "    seq_file=\"neg.fasta\",\n",
    "    seq_file_fmt=\"fasta\",\n",
    "    transform_sequences=Compose(\n",
    "        [\n",
    "            KmerTokenizer(\n",
    "                k=1,\n",
    "                stride=1,\n",
    "                vocab_dict=unambiguous_dna_vocabulary_dict,\n",
    "                num_output_tokens=None,\n",
    "                special_tokens=None,\n",
    "            ),\n",
    "            OneHotEncoder(vocab_size=len(unambiguous_dna_vocabulary_dict)),\n",
    "            ToTensor(),\n",
    "        ]\n",
    "    ),\n",
    "    targets=0,\n",
    "    transform_targets=ToTensor(dtype=torch.float16),\n",
    ")\n",
    "\n",
    "all_seq = ConcatDataset([pos_seq_dataset, neg_seq_dataset])"
   ]
  },
  {
   "cell_type": "code",
   "execution_count": 10,
   "metadata": {},
   "outputs": [
    {
     "data": {
      "text/plain": [
       "200"
      ]
     },
     "execution_count": 10,
     "metadata": {},
     "output_type": "execute_result"
    }
   ],
   "source": [
    "len(all_seq)"
   ]
  },
  {
   "cell_type": "code",
   "execution_count": 14,
   "metadata": {},
   "outputs": [
    {
     "data": {
      "text/plain": [
       "(torch.Size([99, 4]), torch.Size([97, 4]))"
      ]
     },
     "execution_count": 14,
     "metadata": {},
     "output_type": "execute_result"
    }
   ],
   "source": [
    "all_seq[1][0].shape, all_seq[2][0].shape, "
   ]
  },
  {
   "cell_type": "code",
   "execution_count": null,
   "metadata": {},
   "outputs": [],
   "source": []
  },
  {
   "cell_type": "code",
   "execution_count": null,
   "metadata": {},
   "outputs": [],
   "source": []
  }
 ],
 "metadata": {
  "kernelspec": {
   "display_name": "seqinfer",
   "language": "python",
   "name": "python3"
  },
  "language_info": {
   "codemirror_mode": {
    "name": "ipython",
    "version": 3
   },
   "file_extension": ".py",
   "mimetype": "text/x-python",
   "name": "python",
   "nbconvert_exporter": "python",
   "pygments_lexer": "ipython3",
   "version": "3.10.12"
  },
  "orig_nbformat": 4
 },
 "nbformat": 4,
 "nbformat_minor": 2
}
